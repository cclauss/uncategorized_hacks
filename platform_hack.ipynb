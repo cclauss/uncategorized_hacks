{
 "cells": [
  {
   "cell_type": "code",
   "execution_count": 1,
   "metadata": {
    "collapsed": false
   },
   "outputs": [
    {
     "name": "stdout",
     "output_type": "stream",
     "text": [
      "You are running CPython 3.4.3 on a Linux box.\n"
     ]
    }
   ],
   "source": [
    "import platform\n",
    "fmt = 'You are running {} {} on a {} box.'\n",
    "print(fmt.format(platform.python_implementation(),\n",
    "                 platform.python_version(),\n",
    "                 platform.system()))"
   ]
  },
  {
   "cell_type": "code",
   "execution_count": 2,
   "metadata": {
    "collapsed": false
   },
   "outputs": [
    {
     "name": "stdout",
     "output_type": "stream",
     "text": [
      "platform.architecture()          = ('64bit', 'ELF')\n",
      "platform.machine()               = x86_64\n",
      "platform.node()                  = 0f4338ab7324\n",
      "platform.platform()              = Linux-3.13.0-52-generic-x86_64-with-debian-8.0\n",
      "platform.python_build()          = ('default', 'Mar  6 2015 12:03:53')\n",
      "platform.python_compiler()       = GCC 4.4.7 20120313 (Red Hat 4.4.7-1)\n",
      "platform.python_implementation() = CPython\n",
      "platform.python_version()        = 3.4.3\n",
      "platform.python_version_tuple()  = ('3', '4', '3')\n",
      "platform.release()               = 3.13.0-52-generic\n",
      "platform.system()                = Linux\n",
      "platform.version()               = #86-Ubuntu SMP Mon May 4 04:32:59 UTC 2015\n",
      "platform.uname()                 = uname_result(system='Linux', node='0f4338ab7324', release='3.13.0-52-generic', version='#86-Ubuntu SMP Mon May 4 04:32:59 UTC 2015', machine='x86_64', processor='')\n"
     ]
    }
   ],
   "source": [
    "for func in (platform.architecture,    platform.machine,        platform.node,\n",
    "             platform.platform,        platform.processor,      platform.python_build,\n",
    "             platform.python_compiler, platform.python_branch,  platform.python_implementation,\n",
    "             platform.python_revision, platform.python_version, platform.python_version_tuple,\n",
    "             platform.release,         platform.system,         platform.version,\n",
    "             platform.uname):\n",
    "    if func():\n",
    "        print('{}.{:<23} = {}'.format(func.__module__, func.__name__ + '()', func()))"
   ]
  },
  {
   "cell_type": "markdown",
   "metadata": {},
   "source": [
    "Thanks for checking us out..."
   ]
  }
 ],
 "metadata": {
  "kernelspec": {
   "display_name": "Python 3",
   "language": "python",
   "name": "python3"
  },
  "language_info": {
   "codemirror_mode": {
    "name": "ipython",
    "version": 3
   },
   "file_extension": ".py",
   "mimetype": "text/x-python",
   "name": "python",
   "nbconvert_exporter": "python",
   "pygments_lexer": "ipython3",
   "version": "3.4.3"
  }
 },
 "nbformat": 4,
 "nbformat_minor": 0
}
