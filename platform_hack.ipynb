{
 "cells": [
  {
   "cell_type": "code",
   "execution_count": null,
   "metadata": {
    "collapsed": true
   },
   "outputs": [],
   "source": [
    "import platform\n",
    "fmt = 'You are running {} {} on a {} box.'\n",
    "print(fmt.format(platform.python_implementation(),\n",
    "                 platform.python_version(),\n",
    "                 platform.system()))"
   ]
  },
  {
   "cell_type": "code",
   "execution_count": null,
   "metadata": {
    "collapsed": true
   },
   "outputs": [],
   "source": [
    "for func in (platform.architecture,    platform.machine,        platform.node,\n",
    "             platform.platform,        platform.processor,      platform.python_build,\n",
    "             platform.python_compiler, platform.python_branch,  platform.python_implementation,\n",
    "             platform.python_revision, platform.python_version, platform.python_version_tuple,\n",
    "             platform.release,         platform.system,         platform.version,\n",
    "             platform.uname):\n",
    "    if func():\n",
    "        print('{}.{:<23} = {}'.format(func.__module__, func.__name__ + '()', func()))"
   ]
  },
  {
   "cell_type": "markdown",
   "metadata": {},
   "source": [
    "Thanks for checking us out..."
   ]
  }
 ],
 "metadata": {
  "kernelspec": {
   "display_name": "Python 3",
   "language": "python",
   "name": "python3"
  },
  "language_info": {
   "codemirror_mode": {
    "name": "ipython",
    "version": 3
   },
   "file_extension": ".py",
   "mimetype": "text/x-python",
   "name": "python",
   "nbconvert_exporter": "python",
   "pygments_lexer": "ipython3",
   "version": "3.4.3"
  }
 },
 "nbformat": 4,
 "nbformat_minor": 0
}
